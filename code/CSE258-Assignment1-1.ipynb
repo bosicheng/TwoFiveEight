{
 "cells": [
  {
   "cell_type": "code",
   "execution_count": 70,
   "metadata": {},
   "outputs": [],
   "source": [
    "import gzip\n",
    "import numpy as np\n",
    "import matplotlib.pyplot as plt\n",
    "from collections import defaultdict\n",
    "from mpl_toolkits.mplot3d import Axes3D"
   ]
  },
  {
   "cell_type": "code",
   "execution_count": 94,
   "metadata": {},
   "outputs": [],
   "source": [
    "def readGz(f):\n",
    "    for l in gzip.open(f):\n",
    "        yield eval(l)"
   ]
  },
  {
   "cell_type": "code",
   "execution_count": 95,
   "metadata": {},
   "outputs": [
    {
     "name": "stdout",
     "output_type": "stream",
     "text": [
      "{'reviewTime': '09 26, 2013', 'reviewText': \"The model in this picture has them rolled up at the top because they are actually very high waisted! that's my only complaint though, because they are very good quality, and fit really well! I am 5'2&#34; 120lbs with thick thighs and i love them i can't wait to wear them out!\", 'helpful': {'nHelpful': 0, 'outOf': 0}, 'reviewerID': 'U490934656', 'reviewHash': 'R798569390', 'categories': [['Clothing, Shoes & Jewelry', 'Women'], ['Clothing, Shoes & Jewelry', 'Novelty, Costumes & More', 'Novelty', 'Clothing', 'Women', 'Leggings']], 'unixReviewTime': 1380153600, 'itemID': 'I402344648', 'rating': 4.0, 'summary': 'High Waisted', 'categoryID': 0}\n"
     ]
    }
   ],
   "source": [
    "for elem in readGz(\"/Users/linbinyang/Desktop/course-fall2018/cse258/data/assignment1/train.json.gz\"):\n",
    "    print (elem)\n",
    "    break"
   ]
  },
  {
   "cell_type": "code",
   "execution_count": 147,
   "metadata": {},
   "outputs": [],
   "source": [
    "all_set = []\n",
    "user_set = set()\n",
    "item_set = set()\n",
    "for elem in readGz(\"/Users/linbinyang/Desktop/course-fall2018/cse258/data/assignment1/train.json.gz\"):\n",
    "    all_set.append(elem)\n",
    "    user_set.add(elem['reviewerID'])\n",
    "    item_set.add(elem['itemID'])"
   ]
  },
  {
   "cell_type": "code",
   "execution_count": 167,
   "metadata": {},
   "outputs": [],
   "source": [
    "# we use cosine similarity measure similarity between users and items\n",
    "user = defaultdict(list)\n",
    "item = defaultdict(list)\n",
    "for elem in all_set:\n",
    "    item_R = []\n",
    "    user_R = []\n",
    "    user_R.append(elem['reviewerID'])\n",
    "    item_R.append(elem['itemID'])\n",
    "    user_R.append(elem['rating'])\n",
    "    item_R.append(elem['rating'])\n",
    "    user[elem['reviewerID']].append(item_R)\n",
    "    item[elem['itemID']].append(user_R)"
   ]
  },
  {
   "cell_type": "code",
   "execution_count": 171,
   "metadata": {},
   "outputs": [
    {
     "name": "stdout",
     "output_type": "stream",
     "text": [
      "The total number of users is 39239\n"
     ]
    }
   ],
   "source": [
    "print (f\"The total number of users is {len(user)}\")"
   ]
  },
  {
   "cell_type": "code",
   "execution_count": 149,
   "metadata": {},
   "outputs": [
    {
     "name": "stdout",
     "output_type": "stream",
     "text": [
      "The total number of items is 19914\n"
     ]
    }
   ],
   "source": [
    "print (f\"The total number of items is {len(item)}\")"
   ]
  },
  {
   "cell_type": "code",
   "execution_count": 123,
   "metadata": {},
   "outputs": [],
   "source": [
    "def CalculatePetersonSimilarity(user1, user2, user, user_set):\n",
    "    res = 0\n",
    "    r_u1_avg = sum([item[1] for item in user[user1]])/len(user[user1])\n",
    "    r_u2_avg = sum([item[1] for item in user[user2]])/len(user[user2])\n",
    "    item_intersec = []\n",
    "    for item_1 in user[user1]:\n",
    "        for item_2 in user[user2]:\n",
    "            if item_1[0] == item_2[0]:\n",
    "                item_intersec.append(item_1)\n",
    "                break\n",
    "    if len(item_intersec) == 0:\n",
    "        return res\n",
    "    else:\n",
    "        for elem in item_intersec:\n",
    "            res = res + (elem[1] - r_u1_avg) * (elem[1] - r_u2_avg)\n",
    "    deno1 = 0\n",
    "    for elem in item_intersec:\n",
    "        deno1 = deno1 + (elem[1] - r_u1_avg)**2\n",
    "    deno2 = 0\n",
    "    for elem in item_intersec:\n",
    "        deno2 = deno2 + (elem[1] - r_u2_avg)**2\n",
    "    return res/((deno1*deno2)**(1/2))"
   ]
  },
  {
   "cell_type": "code",
   "execution_count": 172,
   "metadata": {},
   "outputs": [],
   "source": [
    "def CalculateJacardSimilarity_user(user1, user2, user, user_set):\n",
    "    if user1 not in user or user2 not in user:\n",
    "        return 0\n",
    "    item1 = user[user1]\n",
    "    item2 = user[user2]\n",
    "    similarity = 0\n",
    "    for each_item_1 in item1:\n",
    "        item_id = each_item_1[0]\n",
    "        for each_item_2 in item2:\n",
    "            if each_item_2[0] == item_id:\n",
    "                similarity = similarity + 1\n",
    "                break\n",
    "    item_set = set()\n",
    "    for item in item1:\n",
    "        item_set.add(item[0])\n",
    "    for item in item2:\n",
    "        item_set.add(item[0])\n",
    "    return similarity/len(item_set)"
   ]
  },
  {
   "cell_type": "code",
   "execution_count": 82,
   "metadata": {},
   "outputs": [],
   "source": [
    "def CalculateJacardSimilarity_item(item1, item2, item, item_set):\n",
    "    if item1 not in item_set:\n",
    "        return 1\n",
    "    user1 = item[item1]\n",
    "    user2 = item[item2]\n",
    "    similarity = 0\n",
    "    for each_user_1 in user1:\n",
    "        user_id = each_user_1[0]\n",
    "        for each_user_2 in user2:\n",
    "            if each_user_2[0] == user_id:\n",
    "                similarity = similarity + 1\n",
    "                break\n",
    "    user_set = set()\n",
    "    for user_i in user1:\n",
    "        user_set.add(user_i[0])\n",
    "    for user_i in user2:\n",
    "        user_set.add(user_i[0])\n",
    "    return similarity/len(user_set)"
   ]
  },
  {
   "cell_type": "code",
   "execution_count": 173,
   "metadata": {},
   "outputs": [],
   "source": [
    "def BuilderSimilarityUser(user_give, user, user_set):\n",
    "    res = []\n",
    "    for user_each in user_set:\n",
    "        if user_each == user_give:\n",
    "            continue\n",
    "        if CalculateJacardSimilarity_user(user_give, user_each, user, user_set) > 0:\n",
    "            res.append(user_each)\n",
    "    return res"
   ]
  },
  {
   "cell_type": "code",
   "execution_count": null,
   "metadata": {},
   "outputs": [],
   "source": [
    "user_sim = defaultdict(list)\n",
    "for any_user in user_set:\n",
    "    user_sim[any_user] = BuilderSimilarityUser(any_user, user, user_set)"
   ]
  },
  {
   "cell_type": "code",
   "execution_count": null,
   "metadata": {},
   "outputs": [],
   "source": [
    "def Judge(u, i, user_sim, item):\n",
    "    for each_user in user_sim[u]:\n",
    "        for each_item in item[each_user]:\n",
    "            if i == each_item:\n",
    "                flag = True\n",
    "                return flag\n",
    "    return False"
   ]
  },
  {
   "cell_type": "code",
   "execution_count": 143,
   "metadata": {},
   "outputs": [],
   "source": [
    "def PredictBuy_v3(user_g, item_g, item, user, item_set, user_set):\n",
    "    if user_g not in user_set or item_g not in item_set:\n",
    "        return False\n",
    "    else:\n",
    "        for each_user in item[item_g]:\n",
    "            if CalculateJacardSimilarity_user(user_g, each_user[0], user, user_set) > 0.2:\n",
    "                return True\n",
    "    return False"
   ]
  },
  {
   "cell_type": "code",
   "execution_count": 117,
   "metadata": {},
   "outputs": [
    {
     "name": "stdout",
     "output_type": "stream",
     "text": [
      "[['I464613034', 5.0], ['I872967861', 5.0], ['I506949867', 5.0], ['I723155560', 5.0], ['I029346709', 5.0], ['I264463508', 2.0], ['I075704956', 5.0], ['I847796665', 5.0], ['I787056386', 2.0], ['I225955774', 2.0], ['I323568513', 5.0], ['I241584112', 5.0], ['I930339650', 3.0]]\n",
      "1.0\n"
     ]
    }
   ],
   "source": [
    "print (CalculatePetersonSimilarity('U507366950', 'U507366950', user, user_set))"
   ]
  },
  {
   "cell_type": "code",
   "execution_count": 144,
   "metadata": {},
   "outputs": [],
   "source": [
    "f = open(\"/Users/linbinyang/Downloads/assignment1/pairs_Purchase.txt\")\n",
    "f_1 = open(\"output_pp20.txt\",\"w\")\n",
    "index = 0\n",
    "while 1:\n",
    "    line = f.readline().strip()\n",
    "    if not line:\n",
    "        break\n",
    "    if index == 0:\n",
    "        f_1.write(line+'\\n')\n",
    "        index = index + 1\n",
    "        continue\n",
    "    u = line.split(\"-\")[0]\n",
    "    i = line.split(\"-\")[1]\n",
    "    flag = Judge(u, i, user_sim, item)\n",
    "    if flag:\n",
    "        f_1.write(u + '-' + i + ',' + '1'+'\\n')\n",
    "    else:\n",
    "        f_1.write(u + '-' + i + ',' + '0'+'\\n')\n",
    "f_1.close()\n",
    "f.close()"
   ]
  }
 ],
 "metadata": {
  "kernelspec": {
   "display_name": "Python 3",
   "language": "python",
   "name": "python3"
  },
  "language_info": {
   "codemirror_mode": {
    "name": "ipython",
    "version": 3
   },
   "file_extension": ".py",
   "mimetype": "text/x-python",
   "name": "python",
   "nbconvert_exporter": "python",
   "pygments_lexer": "ipython3",
   "version": "3.6.5"
  }
 },
 "nbformat": 4,
 "nbformat_minor": 2
}
