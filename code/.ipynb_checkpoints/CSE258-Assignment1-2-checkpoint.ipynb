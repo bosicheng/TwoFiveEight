{
 "cells": [
  {
   "cell_type": "code",
   "execution_count": 1,
   "metadata": {},
   "outputs": [],
   "source": [
    "import gzip\n",
    "import numpy as np\n",
    "import csv\n",
    "import matplotlib.pyplot as plt\n",
    "from collections import defaultdict\n",
    "from mpl_toolkits.mplot3d import Axes3D"
   ]
  },
  {
   "cell_type": "code",
   "execution_count": 3,
   "metadata": {},
   "outputs": [],
   "source": [
    "def readGz(f):\n",
    "    for l in gzip.open(f):\n",
    "        yield eval(l)"
   ]
  },
  {
   "cell_type": "code",
   "execution_count": null,
   "metadata": {},
   "outputs": [],
   "source": [
    "csvFile = open(\"instance.csv\", \"r\")\n",
    "reader = csv.reader(csvFile)"
   ]
  },
  {
   "cell_type": "code",
   "execution_count": 84,
   "metadata": {},
   "outputs": [],
   "source": [
    "training_set = []\n",
    "validation_set = []\n",
    "all_set = []\n",
    "i = 1\n",
    "for elem in readGz(\"/Users/linbinyang/Desktop/course-fall2018/cse258/data/assignment1/train.json.gz\"):\n",
    "    if i <= 100000:\n",
    "        training_set.append(elem)\n",
    "        i = i + 1\n",
    "    elif i <= 200000:\n",
    "        validation_set.append(elem)\n",
    "        i = i + 1\n",
    "    all_set.append(elem)"
   ]
  },
  {
   "cell_type": "code",
   "execution_count": 106,
   "metadata": {},
   "outputs": [],
   "source": [
    "# We have build our training data and validation data\n",
    "user = defaultdict(list)\n",
    "item = defaultdict(list)\n",
    "U_I_R = []\n",
    "for elem in training_set:\n",
    "    unit = []\n",
    "    item_R = []\n",
    "    user_R = []\n",
    "    unit.append(elem['reviewerID'])\n",
    "    user_R.append(elem['reviewerID'])\n",
    "    unit.append(elem['itemID'])\n",
    "    item_R.append(elem['itemID'])\n",
    "    unit.append(elem['rating'])\n",
    "    user_R.append(elem['rating'])\n",
    "    item_R.append(elem['rating'])\n",
    "    U_I_R.append(unit)\n",
    "    user[elem['reviewerID']].append(item_R)\n",
    "    item[elem['itemID']].append(user_R)"
   ]
  },
  {
   "cell_type": "code",
   "execution_count": 6,
   "metadata": {},
   "outputs": [],
   "source": [
    "def inner_multiply(x, y):\n",
    "    return sum([x[i]*y[i] for i in range(len(x))])"
   ]
  },
  {
   "cell_type": "code",
   "execution_count": 7,
   "metadata": {},
   "outputs": [],
   "source": [
    "def ObjectFunction(alpha, beta_u, beta_i, gamma_u, gamma_i, lam, U_I_R, user, item):\n",
    "    res = 0\n",
    "    for elem in U_I_R:\n",
    "        res = res + (alpha + beta_u[elem[0]] + beta_i[elem[1]] + inner_multiply(gamma_u[elem[0]], gamma_i[elem[1]]) - elem[2])**2\n",
    "    for elem in user:\n",
    "        res = res + lam*beta_u[elem] * beta_u[elem]\n",
    "        res = res + lam*sum([unit_gamma_u*unit_gamma_u for unit_gamma_u in gamma_u[elem]])\n",
    "    for elem in item:\n",
    "        res = res + lam*beta_i[elem] * beta_i[elem]\n",
    "        res = res + lam*sum([unit_gamma_i*unit_gamma_i for unit_gamma_i in gamma_i[elem]])\n",
    "    return res"
   ]
  },
  {
   "cell_type": "code",
   "execution_count": 68,
   "metadata": {},
   "outputs": [],
   "source": [
    "def ObjectPrime(alpha, beta_u, beta_i, gamma_u, gamma_i, lam, U_I_R, user, item):\n",
    "    res = []\n",
    "    d_alpha = 0\n",
    "    d_beta_u = defaultdict(int)\n",
    "    d_beta_i = defaultdict(int)\n",
    "    d_gamma_u = defaultdict(list)\n",
    "    d_gamma_i = defaultdict(list)\n",
    "    for elem in U_I_R:\n",
    "        d_alpha = alpha + 2*(beta_u[elem[0]] + beta_i[elem[1]] + inner_multiply(gamma_u[elem[0]], gamma_i[elem[1]])-elem[2])\n",
    "    for key_u in beta_u:\n",
    "        d_beta_u[key_u] = 0\n",
    "        for item_unit in user[key_u]:\n",
    "            d_beta_u[key_u] = d_beta_u[key_u] + 2*(alpha + beta_u[key_u] + beta_i[item_unit[0]] + inner_multiply(gamma_u[key_u], gamma_i[item_unit[0]])-item_unit[1])\n",
    "        d_beta_u[key_u] = d_beta_u[key_u] + 2*lam*beta_u[key_u]\n",
    "    for key_i in beta_i:\n",
    "        d_beta_i[key_i] = 0\n",
    "        for user_unit in item[key_i]:\n",
    "            d_beta_i[key_i] = d_beta_i[key_i] + 2*(alpha + beta_u[user_unit[0]] + beta_i[key_i] + inner_multiply(gamma_u[user_unit[0]], gamma_i[key_i]) - user_unit[1])\n",
    "        d_beta_i[key_i] = d_beta_i[key_i] + 2*lam*beta_i[key_i]\n",
    "    for user_unit in gamma_u:\n",
    "        unit_gamma_u = [0]*len(gamma_u[user_unit])\n",
    "        for i in range(len(gamma_u[user_unit])):\n",
    "            for item_unit in user[user_unit]:\n",
    "                unit_gamma_u[i] = unit_gamma_u[i] + 2*(alpha+beta_u[user_unit]+beta_i[item_unit[0]]+inner_multiply(gamma_u[user_unit], gamma_i[item_unit[0]])-item_unit[1])*gamma_i[item_unit[0]][i]\n",
    "            unit_gamma_u[i] = unit_gamma_u[i] + 2*lam*gamma_u[user_unit][i]\n",
    "        d_gamma_u[user_unit] = unit_gamma_u\n",
    "    for item_unit in gamma_i:\n",
    "        unit_gamma_i = [0]*len(gamma_i[item_unit])\n",
    "        for i in range(len(gamma_i[item_unit])):\n",
    "            for user_unit in item[item_unit]:\n",
    "                unit_gamma_i[i] = unit_gamma_i[i] + 2*(alpha+beta_u[user_unit[0]]+beta_i[item_unit]+inner_multiply(gamma_u[user_unit[0]], gamma_i[item_unit])-user_unit[1])*gamma_u[user_unit[0]][i]\n",
    "            unit_gamma_i[i] = unit_gamma_i[i] + 2*lam*gamma_i[item_unit][i]\n",
    "        d_gamma_i[item_unit] = unit_gamma_i   \n",
    "    res.append(d_alpha)\n",
    "    res.append(d_beta_u)\n",
    "    res.append(d_beta_i)\n",
    "    res.append(d_gamma_u)\n",
    "    res.append(d_gamma_i)\n",
    "    return res"
   ]
  },
  {
   "cell_type": "code",
   "execution_count": 71,
   "metadata": {},
   "outputs": [],
   "source": [
    "# update parameters for each iterations\n",
    "def updateParameter(d_res, lr, alpha, beta_u, beta_i, gamma_u, gamma_i):\n",
    "    coff = []\n",
    "    alpha = alpha - lr*d_res[0]\n",
    "    for key_u in beta_u:\n",
    "        beta_u[key_u] = beta_u[key_u] - lr*d_res[1][key_u]\n",
    "    for key_i in beta_i:\n",
    "        beta_i[key_i] = beta_i[key_i] - lr*d_res[2][key_i]\n",
    "    for user_unit in gamma_u:\n",
    "        for i in range(len(gamma_u[user_unit])):\n",
    "            gamma_u[user_unit][i] = gamma_u[user_unit][i] - lr*d_res[3][user_unit][i]\n",
    "    for item_unit in gamma_i:\n",
    "        for i in range(len(gamma_i[item_unit])):\n",
    "            gamma_i[item_unit][i] = gamma_i[item_unit][i] - lr*d_res[4][item_unit][i]\n",
    "    coff.append(alpha)\n",
    "    coff.append(beta_u)\n",
    "    coff.append(beta_i)\n",
    "    coff.append(gamma_u)\n",
    "    coff.append(gamma_i)\n",
    "    return coff"
   ]
  },
  {
   "cell_type": "code",
   "execution_count": 120,
   "metadata": {},
   "outputs": [],
   "source": [
    "# initialize parameters\n",
    "# Initial beta_u and beta_i\n",
    "coff = []\n",
    "lam = 6.6\n",
    "lr = 0.00166\n",
    "beta_u = defaultdict(int)\n",
    "beta_i = defaultdict(int)\n",
    "alpha = 0\n",
    "gamma_u = defaultdict(list)\n",
    "gamma_i = defaultdict(list)\n",
    "for key_u in user:\n",
    "    beta_u[key_u] = 0\n",
    "    gamma_u[key_u] = np.random.randn(1).tolist()\n",
    "for key_i in item:\n",
    "    beta_i[key_i] = 0\n",
    "    gamma_i[key_i] = np.random.randn(1).tolist()\n",
    "coff.append(alpha)\n",
    "coff.append(beta_u)\n",
    "coff.append(beta_i)\n",
    "coff.append(gamma_u)\n",
    "coff.append(gamma_i)"
   ]
  },
  {
   "cell_type": "code",
   "execution_count": 112,
   "metadata": {},
   "outputs": [],
   "source": [
    "# training process\n",
    "def train(iteration_num, coff, lam, lr, U_I_R, user, item):\n",
    "    res_list = []\n",
    "    for i in range(iteration_num):\n",
    "        res = ObjectFunction(coff[0], coff[1], coff[2], coff[3], coff[4], lam, U_I_R, user, item)\n",
    "        if (res < 100000):\n",
    "            lr = lr*0.99\n",
    "            # learning rate decay\n",
    "        if i%10 == 0:\n",
    "            print (f\"MSE = {res}\")\n",
    "            res_list.append(res)\n",
    "        d_res = ObjectPrime(coff[0], coff[1], coff[2], coff[3], coff[4], lam, U_I_R, user, item)\n",
    "        coff = updateParameter(d_res, lr, coff[0], coff[1], coff[2], coff[3], coff[4])\n",
    "    number_of_samples = range(0, int(iteration_num/10))\n",
    "    plt.title('Recommendation System on latent factor model')\n",
    "    plt.xlabel('Number of samples')\n",
    "    plt.ylabel('MSE error')\n",
    "    plt.plot(number_of_samples, res_list, color='blue')\n",
    "    plt.show()\n",
    "    return coff"
   ]
  },
  {
   "cell_type": "code",
   "execution_count": 1,
   "metadata": {},
   "outputs": [],
   "source": [
    "# coff = train(800, coff, lam, lr, U_I_R, user, item)"
   ]
  },
  {
   "cell_type": "code",
   "execution_count": 122,
   "metadata": {},
   "outputs": [
    {
     "name": "stdout",
     "output_type": "stream",
     "text": [
      "4.509273496281763\n"
     ]
    }
   ],
   "source": [
    "print (coff[0])"
   ]
  },
  {
   "cell_type": "code",
   "execution_count": 81,
   "metadata": {},
   "outputs": [],
   "source": [
    "def computeMSE(coff, validation_set):\n",
    "    res = []\n",
    "    real_label = []\n",
    "    for elem in validation_set:\n",
    "        if elem['reviewerID'] in coff[1] and elem['itemID'] in coff[2]:\n",
    "            unit_res = coff[0] + coff[1][elem['reviewerID']] + coff[2][elem['itemID']] + inner_multiply(coff[3][elem['reviewerID']], coff[4][elem['itemID']])\n",
    "            res.append(unit_res)\n",
    "            real_label.append(elem['rating'])\n",
    "    return sum([abs(res[i] - real_label[i])**2 for i in range(len(res))])/len(res)"
   ]
  },
  {
   "cell_type": "code",
   "execution_count": 124,
   "metadata": {},
   "outputs": [],
   "source": [
    "predictions = open(\"predictions_Rating4.txt\", 'w')\n",
    "for l in open(\"/Users/linbinyang/Downloads/assignment1/pairs_Rating.txt\"):\n",
    "    if l.startswith(\"reviewerID\"):\n",
    "        predictions.write(l)\n",
    "        continue\n",
    "    u,i = l.strip().split('-')\n",
    "    if u in coff[1] and i in coff[2]:\n",
    "        predictions_n = coff[0] + coff[1][u] + coff[2][i] + inner_multiply(coff[3][u], coff[4][i])\n",
    "    else:\n",
    "        predictions_n = coff[0]\n",
    "    if predictions_n > 5:\n",
    "        predictions.write(u + '-' + i + ',' + str(5) + '\\n')\n",
    "    else:\n",
    "        predictions.write(u + '-' + i + ',' + str(predictions_n) + '\\n')\n",
    "predictions.close()"
   ]
  },
  {
   "cell_type": "code",
   "execution_count": 123,
   "metadata": {},
   "outputs": [
    {
     "name": "stdout",
     "output_type": "stream",
     "text": [
      "1.1752082586198969\n"
     ]
    }
   ],
   "source": [
    "print (computeMSE(coff, validation_set))"
   ]
  }
 ],
 "metadata": {
  "kernelspec": {
   "display_name": "Python 3",
   "language": "python",
   "name": "python3"
  },
  "language_info": {
   "codemirror_mode": {
    "name": "ipython",
    "version": 3
   },
   "file_extension": ".py",
   "mimetype": "text/x-python",
   "name": "python",
   "nbconvert_exporter": "python",
   "pygments_lexer": "ipython3",
   "version": "3.6.5"
  }
 },
 "nbformat": 4,
 "nbformat_minor": 2
}
