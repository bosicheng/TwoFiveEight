{
 "cells": [
  {
   "cell_type": "code",
   "execution_count": 2,
   "metadata": {},
   "outputs": [],
   "source": [
    "import gzip\n",
    "import random\n",
    "import numpy as np\n",
    "import scipy.optimize\n",
    "import matplotlib.pyplot as plt \n",
    "from collections import defaultdict"
   ]
  },
  {
   "cell_type": "code",
   "execution_count": 3,
   "metadata": {},
   "outputs": [],
   "source": [
    "def readGz(f):\n",
    "    for l in gzip.open(f):\n",
    "        yield eval(l)"
   ]
  },
  {
   "cell_type": "code",
   "execution_count": 186,
   "metadata": {},
   "outputs": [],
   "source": [
    "####\n",
    "#### QUESTION 1 START\n",
    "####"
   ]
  },
  {
   "cell_type": "code",
   "execution_count": 5,
   "metadata": {},
   "outputs": [],
   "source": [
    "# now we split the data by the following rules:\n",
    "# Reviews 1-100,000 for training\n",
    "# Reviews 100,001-200,000 for validation\n",
    "# f = readGz(\"/Users/linbinyang/Desktop/course-fall2018/cse258/data/assignment1/train.json.gz\")\n",
    "training_set = []\n",
    "validation_set = []\n",
    "user_item_pair = set()\n",
    "all_set = []\n",
    "i = 1\n",
    "for elem in readGz(\"/Users/linbinyang/Desktop/course-fall2018/cse258/data/assignment1/train.json.gz\"):\n",
    "    if i <= 100000:\n",
    "        training_set.append(elem)\n",
    "        i = i + 1\n",
    "    elif i <= 200000:\n",
    "        validation_set.append(elem)\n",
    "        i = i + 1\n",
    "    user_item_pair.add(elem['reviewerID']+\"-\"+elem['itemID'])\n",
    "    all_set.append(elem)"
   ]
  },
  {
   "cell_type": "code",
   "execution_count": 69,
   "metadata": {},
   "outputs": [],
   "source": [
    "# random sample data from validation set\n",
    "# note that we have already build one set to store all positive case\n",
    "# For each user we have a unique reviewer ID\n",
    "# For Item we also have one unique Item ID\n",
    "# We construct non-purchased pair"
   ]
  },
  {
   "cell_type": "code",
   "execution_count": 152,
   "metadata": {},
   "outputs": [],
   "source": [
    "non_purchase_user_item = set()\n",
    "while 1:\n",
    "    # Random sample in the 100000 dataset\n",
    "    unit = \"\"\n",
    "    rid_1 = random.randint(0,99999)\n",
    "    unit = unit+validation_set[rid_1]['reviewerID']+\"-\"\n",
    "    rid_2 = random.randint(0,99999)\n",
    "    unit = unit + validation_set[rid_2]['itemID']\n",
    "    if unit not in user_item_pair:\n",
    "        non_purchase_user_item.add(unit)\n",
    "    if len(non_purchase_user_item) == 100000:\n",
    "        break"
   ]
  },
  {
   "cell_type": "code",
   "execution_count": 153,
   "metadata": {},
   "outputs": [],
   "source": [
    "# Evaludate the accuracy of baseline model on my validation set\n",
    "# for the 0-99999 data label = 1 and 100000-19999 data label = 0\n",
    "f = open(\"validation_data.txt\",\"w\")\n",
    "for i in range(len(validation_set)):\n",
    "    f.write(validation_set[i]['reviewerID']+\"-\"+validation_set[i]['itemID']+\"-\"+\"1\"+\"\\n\")\n",
    "    # f.write(non_purchase_user_item[i]+\"-\"+\"0\"+\"/n\")\n",
    "f.close()"
   ]
  },
  {
   "cell_type": "code",
   "execution_count": 154,
   "metadata": {},
   "outputs": [],
   "source": [
    "f = open(\"validation_data.txt\",\"a\")\n",
    "for elem in non_purchase_user_item:\n",
    "    f.write(elem+\"-\"+\"0\"+\"\\n\")\n",
    "f.close()\n",
    "# Ok, here we finish the build of our validation data set"
   ]
  },
  {
   "cell_type": "code",
   "execution_count": 166,
   "metadata": {},
   "outputs": [
    {
     "name": "stdout",
     "output_type": "stream",
     "text": [
      "0.49915\n"
     ]
    }
   ],
   "source": [
    "# We adopt the baseline for would purchase\n",
    "businessCount = defaultdict(int)\n",
    "totalPurchases  = 0\n",
    "for elem in training_set:\n",
    "    user, business = elem['reviewerID'], elem['itemID']\n",
    "    businessCount[business] += 1\n",
    "    totalPurchases += 1\n",
    "\n",
    "mostPopular = [(businessCount[x], x) for x in businessCount]\n",
    "# key: num\n",
    "# value: item\n",
    "mostPopular.sort()\n",
    "mostPopular.reverse()\n",
    "# compute the threashold for the baseline model\n",
    "# 1 2 3 4 5 6\n",
    "if len(mostPopular) % 2 == 0:\n",
    "    threashold = (mostPopular[int(len(mostPopular)/2-1)][0] + mostPopular[int(len(mostPopular)/2)][0])/2\n",
    "else:\n",
    "    threashold = mostPopular[int(len(mostPopular)/2)][0]\n",
    "\n",
    "return1 = set()\n",
    "count = 0\n",
    "for ic, i in mostPopular:\n",
    "    if ic >= threashold:\n",
    "        return1.add(i)\n",
    "\n",
    "# Now in the return1, we have the most popular item\n",
    "acc_num = 0\n",
    "for l in open(\"validation_data.txt\"):\n",
    "    u,i,label = l.strip().split('-')\n",
    "    if i in return1 and label == \"1\":\n",
    "        acc_num += 1\n",
    "    if i not in return1 and label == \"0\":\n",
    "        acc_num += 1\n",
    "acc = acc_num/200000\n",
    "print (acc)"
   ]
  },
  {
   "cell_type": "code",
   "execution_count": 203,
   "metadata": {},
   "outputs": [],
   "source": [
    "####\n",
    "#### QUESTION 1 END\n",
    "####"
   ]
  },
  {
   "cell_type": "code",
   "execution_count": 202,
   "metadata": {},
   "outputs": [],
   "source": [
    "####\n",
    "#### QUESTION 2 START\n",
    "####"
   ]
  },
  {
   "cell_type": "code",
   "execution_count": 14,
   "metadata": {},
   "outputs": [],
   "source": [
    "# I do not think this would be a good model, because during the process of building the validation data, \n",
    "# if we happend to sample those Item that is popular, then the FP rate would increase"
   ]
  },
  {
   "cell_type": "code",
   "execution_count": 201,
   "metadata": {},
   "outputs": [],
   "source": [
    "####\n",
    "#### QUESTION 2 END\n",
    "####"
   ]
  },
  {
   "cell_type": "code",
   "execution_count": 200,
   "metadata": {},
   "outputs": [],
   "source": [
    "####\n",
    "#### QUESTION 3 START\n",
    "####"
   ]
  },
  {
   "cell_type": "code",
   "execution_count": 207,
   "metadata": {},
   "outputs": [],
   "source": [
    "# for this question, I have two defaultdict(set): user and item\n",
    "# user stores all the categories user_i have bought and the format is set(tuple), same for item\n",
    "# when make decision in the validation set, we use & to check if user_i buys this thing or not"
   ]
  },
  {
   "cell_type": "code",
   "execution_count": 141,
   "metadata": {},
   "outputs": [],
   "source": [
    "# baseline model for question 3\n",
    "# Build categories for question 3\n",
    "# collect all categories from the 200,000 data\n",
    "user_default_cateset = defaultdict(set)\n",
    "item_default_cateset = defaultdict(set)\n",
    "for elem in readGz(\"/Users/linbinyang/Desktop/course-fall2018/cse258/data/assignment1/train.json.gz\"):\n",
    "    # Here elem denotes one line of record\n",
    "    categories_list = elem['categories']\n",
    "    for eachcate in categories_list:\n",
    "        user_default_cateset[elem['reviewerID']].add(tuple(eachcate))\n",
    "        item_default_cateset[elem['itemID']].add(tuple(eachcate))"
   ]
  },
  {
   "cell_type": "code",
   "execution_count": 144,
   "metadata": {},
   "outputs": [],
   "source": [
    "# Ok now we implement our model to the validation set\n",
    "# pairs Purchase.txt\n",
    "f = open(\"buyornot.txt\",\"w\")\n",
    "f_in = open(\"/Users/linbinyang/Downloads/assignment1/pairs_Purchase.txt\")\n",
    "index = 0\n",
    "while 1:\n",
    "    line = f_in.readline().strip()\n",
    "    if not line:\n",
    "        break\n",
    "    if index == 0:\n",
    "        index = index + 1\n",
    "        f.write(line+'\\n')\n",
    "    else:\n",
    "        u = line.split('-')[0]\n",
    "        i = line.split('-')[1]\n",
    "        if u not in user_default_cateset:\n",
    "            f.write(u + '-' + i + ',' + str(0) + '\\n')\n",
    "        elif len(user_default_cateset[u] & item_default_cateset[i]) == 0:\n",
    "            f.write(u + '-' + i + ',' + str(0) + '\\n')\n",
    "        elif len(user_default_cateset[u] & item_default_cateset[i]) != 0:\n",
    "            f.write(u + '-' + i + ',' + str(1) + '\\n')\n",
    "f.close()\n",
    "f_in.close()"
   ]
  },
  {
   "cell_type": "code",
   "execution_count": 199,
   "metadata": {},
   "outputs": [],
   "source": [
    "####\n",
    "#### QUESTION 3 END\n",
    "####"
   ]
  },
  {
   "cell_type": "code",
   "execution_count": 196,
   "metadata": {},
   "outputs": [],
   "source": [
    "####\n",
    "#### QUESTION 4 START\n",
    "####"
   ]
  },
  {
   "cell_type": "code",
   "execution_count": 197,
   "metadata": {},
   "outputs": [],
   "source": [
    "# My username on kaggle is \n",
    "# linbinisme\n",
    "# my score is top 35% and is around 0.63549"
   ]
  },
  {
   "cell_type": "code",
   "execution_count": 198,
   "metadata": {},
   "outputs": [],
   "source": [
    "####\n",
    "#### QUESTION 4 END\n",
    "####"
   ]
  },
  {
   "cell_type": "code",
   "execution_count": 195,
   "metadata": {},
   "outputs": [],
   "source": [
    "####\n",
    "#### QUESTION 5 START\n",
    "####"
   ]
  },
  {
   "cell_type": "code",
   "execution_count": 170,
   "metadata": {},
   "outputs": [
    {
     "name": "stdout",
     "output_type": "stream",
     "text": [
      "alpha is 4.232\n"
     ]
    }
   ],
   "source": [
    "# trival model on train_data\n",
    "# the alpha is just the average of all ratings\n",
    "alpha = 0\n",
    "for elem in training_set:\n",
    "    alpha = alpha + elem['rating']\n",
    "alpha = alpha/len(training_set)\n",
    "print(f\"alpha is {alpha}\")"
   ]
  },
  {
   "cell_type": "code",
   "execution_count": 174,
   "metadata": {},
   "outputs": [
    {
     "name": "stdout",
     "output_type": "stream",
     "text": [
      "MSE_trival is 1.222481119999121\n"
     ]
    }
   ],
   "source": [
    "# Use MSE to measure the performance\n",
    "MSE_trival = sum([(elem['rating']-alpha)**2 for elem in validation_set])/len(validation_set)\n",
    "print (f\"MSE_trival is {MSE_trival}\")"
   ]
  },
  {
   "cell_type": "code",
   "execution_count": 194,
   "metadata": {},
   "outputs": [],
   "source": [
    "####\n",
    "#### QUESTION 5 END\n",
    "####"
   ]
  },
  {
   "cell_type": "code",
   "execution_count": 193,
   "metadata": {},
   "outputs": [],
   "source": [
    "####\n",
    "#### QUESTION 6 START\n",
    "####"
   ]
  },
  {
   "cell_type": "code",
   "execution_count": 6,
   "metadata": {},
   "outputs": [],
   "source": [
    "# For this question, we use naive bayes model\n",
    "user = defaultdict(list)\n",
    "item = defaultdict(list)\n",
    "U_I_R = []\n",
    "for elem in all_set:\n",
    "    unit = []\n",
    "    item_R = []\n",
    "    user_R = []\n",
    "    unit.append(elem['reviewerID'])\n",
    "    user_R.append(elem['reviewerID'])\n",
    "    unit.append(elem['itemID'])\n",
    "    item_R.append(elem['itemID'])\n",
    "    unit.append(elem['rating'])\n",
    "    user_R.append(elem['rating'])\n",
    "    item_R.append(elem['rating'])\n",
    "    U_I_R.append(unit)\n",
    "    user[elem['reviewerID']].append(item_R)\n",
    "    item[elem['itemID']].append(user_R)"
   ]
  },
  {
   "cell_type": "code",
   "execution_count": 7,
   "metadata": {},
   "outputs": [],
   "source": [
    "def inner_multiply(x, y):\n",
    "    return sum([x[i]*y[i] for i in range(len(x))])"
   ]
  },
  {
   "cell_type": "code",
   "execution_count": 32,
   "metadata": {},
   "outputs": [],
   "source": [
    "def ObjectFunction(alpha, beta_u, beta_i, lam_u, lam_i, U_I_R, user, item):\n",
    "    res = 0\n",
    "    for elem in U_I_R:\n",
    "        res = res + (alpha + beta_u[elem[0]] + beta_i[elem[1]] - elem[2])**2\n",
    "    for elem in user:\n",
    "        res = res + lam_u*beta_u[elem] * beta_u[elem]\n",
    "    for elem in item:\n",
    "        res = res + lam_i*beta_i[elem] * beta_i[elem]\n",
    "    return res"
   ]
  },
  {
   "cell_type": "code",
   "execution_count": 31,
   "metadata": {},
   "outputs": [],
   "source": [
    "def ObjectPrime(alpha, beta_u, beta_i, lam_u, lam_i, U_I_R, user, item):\n",
    "    res = []\n",
    "    new_alpha = 0\n",
    "    for elem in U_I_R:\n",
    "        new_alpha = new_alpha + elem[2] - beta_u[elem[0]] - beta_i[elem[1]]\n",
    "    new_alpha = new_alpha/len(U_I_R)\n",
    "    for key_u in beta_u:\n",
    "        # for each user there is one corresponding beta_u_value\n",
    "        temp_u = 0\n",
    "        goal_item = user[key_u]\n",
    "        for elem in goal_item:\n",
    "            temp_u = temp_u + elem[1] - alpha - beta_i[elem[0]]\n",
    "        beta_u[key_u] = temp_u/(lam_u+len(goal_item))\n",
    "    for key_i in beta_i:\n",
    "        # for each item there is one corresponding beta_i value\n",
    "        temp_i = 0\n",
    "        goal_user = item[key_i]\n",
    "        for elem in goal_user:\n",
    "            temp_i = temp_i + elem[1] - alpha - beta_u[elem[0]]\n",
    "        beta_i[key_i] = temp_i/(lam_i+len(goal_user))\n",
    "    res.append(new_alpha)\n",
    "    res.append(beta_u)\n",
    "    res.append(beta_i)\n",
    "    return res"
   ]
  },
  {
   "cell_type": "code",
   "execution_count": 48,
   "metadata": {},
   "outputs": [],
   "source": [
    "# Initial beta_u and beta_i\n",
    "beta_u = defaultdict(int)\n",
    "beta_i = defaultdict(int)\n",
    "alpha = 0\n",
    "for key_u in user:\n",
    "    beta_u[key_u] = 0\n",
    "for key_i in item:\n",
    "    beta_i[key_i] = 0"
   ]
  },
  {
   "cell_type": "code",
   "execution_count": 35,
   "metadata": {},
   "outputs": [],
   "source": [
    "# begin training\n",
    "def train(num_iter, alpha, beta_u, beta_i, lam_u, lam_i, U_I_R, user, item):\n",
    "    coff = []\n",
    "    res = []\n",
    "    coff.append(alpha)\n",
    "    coff.append(beta_u)\n",
    "    coff.append(beta_i)\n",
    "    for i in range(num_iter):\n",
    "        result = ObjectFunction(coff[0], coff[1], coff[2], lam_u, lam_i, U_I_R, user, item)\n",
    "        if i % 10 == 0:\n",
    "            print (result)\n",
    "        res.append(result)\n",
    "        coff = ObjectPrime(coff[0], coff[1], coff[2], lam_u, lam_i, U_I_R, user, item)\n",
    "    plt.title(\"Rating Prediction Error\")\n",
    "    plt.xlabel(\"Number of Samples\")\n",
    "    plt.ylabel(\"Error\")\n",
    "    plt.plot(range(1, len(res)+1, 1), res, color='blue')\n",
    "    plt.show()\n",
    "    return coff"
   ]
  },
  {
   "cell_type": "code",
   "execution_count": 41,
   "metadata": {},
   "outputs": [
    {
     "data": {
      "image/png": "[encoded data removed]",
      "text/plain": [
       "<Figure size 432x288 with 1 Axes>"
      ]
     },
     "metadata": {},
     "output_type": "display_data"
    }
   ],
   "source": [
    "num_iter = 1000\n",
    "lam = 1.0\n",
    "coff = train(num_iter, alpha, beta_u, beta_i, lam, U_I_R, user, item)"
   ]
  },
  {
   "cell_type": "code",
   "execution_count": 56,
   "metadata": {},
   "outputs": [],
   "source": [
    "# Compute the MSE on validation set\n",
    "def computeMSE(coff, validation_set):\n",
    "    res = []\n",
    "    real_label = []\n",
    "    for elem in validation_set:\n",
    "        if elem['reviewerID'] in coff[1] and elem['itemID'] in coff[2]:\n",
    "            res.append(coff[0] + coff[1][elem['reviewerID']] + coff[2][elem['itemID']])\n",
    "            real_label.append(elem['rating'])\n",
    "    return sum([abs(res[i] - real_label[i])**2 for i in range(len(res))])/len(res)"
   ]
  },
  {
   "cell_type": "code",
   "execution_count": 57,
   "metadata": {},
   "outputs": [
    {
     "name": "stdout",
     "output_type": "stream",
     "text": [
      "1.2832276659700115\n"
     ]
    }
   ],
   "source": [
    "print (computeMSE(coff, validation_set))"
   ]
  },
  {
   "cell_type": "code",
   "execution_count": 191,
   "metadata": {},
   "outputs": [],
   "source": [
    "####\n",
    "#### QUESTION 6 END\n",
    "####"
   ]
  },
  {
   "cell_type": "code",
   "execution_count": 192,
   "metadata": {},
   "outputs": [],
   "source": [
    "####\n",
    "#### QUESTION 7 START\n",
    "####"
   ]
  },
  {
   "cell_type": "code",
   "execution_count": 107,
   "metadata": {},
   "outputs": [
    {
     "name": "stdout",
     "output_type": "stream",
     "text": [
      "(1.4867301922953697, 'U495776285')\n"
     ]
    }
   ],
   "source": [
    "print (max(zip(coff[1].values(),coff[1].keys())))"
   ]
  },
  {
   "cell_type": "code",
   "execution_count": 117,
   "metadata": {},
   "outputs": [
    {
     "name": "stdout",
     "output_type": "stream",
     "text": [
      "(1.2700123170076554, 'I809804570')\n"
     ]
    }
   ],
   "source": [
    "print (max(zip(coff[2].values(),coff[2].keys())))"
   ]
  },
  {
   "cell_type": "code",
   "execution_count": 190,
   "metadata": {},
   "outputs": [],
   "source": [
    "####\n",
    "#### QUESTION 7 END\n",
    "####"
   ]
  },
  {
   "cell_type": "code",
   "execution_count": 189,
   "metadata": {},
   "outputs": [],
   "source": [
    "####\n",
    "#### QUESTION 8 START\n",
    "####"
   ]
  },
  {
   "cell_type": "code",
   "execution_count": 183,
   "metadata": {},
   "outputs": [
    {
     "name": "stdout",
     "output_type": "stream",
     "text": [
      "0.0\n",
      "19.952096728038317\n",
      "1.1111111111111112\n",
      "5.489483965611788\n",
      "2.2222222222222223\n",
      "1.4792834598885882\n",
      "3.3333333333333335\n",
      "1.1644679059244307\n",
      "4.444444444444445\n",
      "1.1375532591378357\n",
      "5.555555555555555\n",
      "1.1325739731135376\n",
      "6.666666666666667\n",
      "1.131705229362933\n",
      "7.777777777777779\n",
      "1.1324915009258472\n",
      "8.88888888888889\n",
      "1.1340865778358158\n",
      "10.0\n",
      "1.1360815721252757\n"
     ]
    }
   ],
   "source": [
    "# choosing best lamda\n",
    "lam_list = np.linspace(0,10,10)\n",
    "iter_num = 50\n",
    "for i in range(len(lam_list)):\n",
    "    beta_u = defaultdict(int)\n",
    "    beta_i = defaultdict(int)\n",
    "    alpha = 0\n",
    "    for key_u in user:\n",
    "        beta_u[key_u] = 0\n",
    "    for key_i in item:\n",
    "        beta_i[key_i] = 0\n",
    "    new_coff = train(iter_num, alpha, beta_u, beta_i, lam_list[i], U_I_R, user, item)\n",
    "    print (lam_list[i])\n",
    "    print(computeMSE(new_coff, validation_set))"
   ]
  },
  {
   "cell_type": "code",
   "execution_count": 49,
   "metadata": {},
   "outputs": [
    {
     "name": "stdout",
     "output_type": "stream",
     "text": [
      "3831692.0\n",
      "1983989.3434050293\n",
      "1027593.7603599572\n",
      "581415.8473325624\n",
      "369338.7284721533\n",
      "267999.68378955533\n",
      "219495.51548346278\n",
      "196265.97847579635\n",
      "185138.285321811\n",
      "179807.23148145402\n",
      "177253.12072667445\n",
      "176029.42178968686\n",
      "175443.13102827314\n",
      "175162.23013964697\n",
      "175027.64600072958\n",
      "174963.16452637292\n",
      "174932.27038171835\n",
      "174917.46848214613\n",
      "174910.3766449323\n",
      "174906.9788272362\n"
     ]
    },
    {
     "data": {
      "image/png": "[encoded data removed]",
      "text/plain": [
       "<Figure size 432x288 with 1 Axes>"
      ]
     },
     "metadata": {},
     "output_type": "display_data"
    }
   ],
   "source": [
    "# base on the result shown above, I decide to use lamda = 6.5\n",
    "# so here we retrain our model\n",
    "num_iter = 200\n",
    "lam_u = 3.0\n",
    "lam_i = 5.0\n",
    "coff = train(num_iter, alpha, beta_u, beta_i, lam_u, lam_i, U_I_R, user, item)"
   ]
  },
  {
   "cell_type": "code",
   "execution_count": 50,
   "metadata": {},
   "outputs": [],
   "source": [
    "predictions = open(\"predictions_Rating12.txt\", 'w')\n",
    "for l in open(\"/Users/linbinyang/Downloads/assignment1/pairs_Rating.txt\"):\n",
    "    if l.startswith(\"reviewerID\"):\n",
    "        predictions.write(l)\n",
    "        continue\n",
    "    u,i = l.strip().split('-')\n",
    "    predictions_n = coff[0] + coff[1][u] + coff[2][i]\n",
    "    if predictions_n > 5:\n",
    "        predictions.write(u + '-' + i + ',' + str(5) + '\\n')\n",
    "    else:\n",
    "        predictions.write(u + '-' + i + ',' + str(predictions_n) + '\\n')\n",
    "predictions.close()"
   ]
  },
  {
   "cell_type": "code",
   "execution_count": 204,
   "metadata": {},
   "outputs": [],
   "source": [
    "# My kaggle performance is 1.18465 and ranked top 59%\n",
    "# My kaggle username is linbinisme"
   ]
  },
  {
   "cell_type": "code",
   "execution_count": 188,
   "metadata": {},
   "outputs": [],
   "source": [
    "####\n",
    "#### QUESTION 8 END\n",
    "####"
   ]
  }
 ],
 "metadata": {
  "kernelspec": {
   "display_name": "Python 3",
   "language": "python",
   "name": "python3"
  },
  "language_info": {
   "codemirror_mode": {
    "name": "ipython",
    "version": 3
   },
   "file_extension": ".py",
   "mimetype": "text/x-python",
   "name": "python",
   "nbconvert_exporter": "python",
   "pygments_lexer": "ipython3",
   "version": "3.6.5"
  }
 },
 "nbformat": 4,
 "nbformat_minor": 2
}
