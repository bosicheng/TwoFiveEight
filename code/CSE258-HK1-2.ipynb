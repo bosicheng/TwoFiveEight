{
 "cells": [
  {
   "cell_type": "code",
   "execution_count": 1,
   "metadata": {},
   "outputs": [],
   "source": [
    "import urllib.request\n",
    "import scipy.optimize\n",
    "import random\n",
    "import math\n",
    "from sklearn import svm"
   ]
  },
  {
   "cell_type": "code",
   "execution_count": 19,
   "metadata": {},
   "outputs": [],
   "source": [
    "def parseData(fname):\n",
    "    for l in urllib.request.urlopen(fname):\n",
    "        yield eval(l)"
   ]
  },
  {
   "cell_type": "code",
   "execution_count": 20,
   "metadata": {},
   "outputs": [
    {
     "name": "stdout",
     "output_type": "stream",
     "text": [
      "Reading data......\n",
      "We are done\n"
     ]
    }
   ],
   "source": [
    "print (\"Reading data......\")\n",
    "data = list(parseData(\"http://jmcauley.ucsd.edu/cse255/data/beer/beer_50000.json\"))\n",
    "print (\"We are done\")"
   ]
  },
  {
   "cell_type": "code",
   "execution_count": 21,
   "metadata": {},
   "outputs": [],
   "source": [
    "random.shuffle(data)\n",
    "train_data_shuffled = data[:int(len(data)/2)]\n",
    "test_data_shuffled = data[-int(len(data)/2):]"
   ]
  },
  {
   "cell_type": "code",
   "execution_count": 22,
   "metadata": {},
   "outputs": [],
   "source": [
    "def Construct_Feature(data, x_input, y_output):\n",
    "    unit_x = []\n",
    "    for elem in data:\n",
    "        unit_x.append(elem['review/taste'])\n",
    "        unit_x.append(elem['review/appearance'])\n",
    "        unit_x.append(elem['review/aroma'])\n",
    "        unit_x.append(elem['review/palate'])\n",
    "        unit_x.append(elem['review/overall'])\n",
    "        x_input.append(unit_x)\n",
    "        if elem['beer/style'] == 'Hefeweizen':\n",
    "            y_output.append(1)\n",
    "        else:\n",
    "            y_output.append(0)\n",
    "        unit_x = []"
   ]
  },
  {
   "cell_type": "code",
   "execution_count": 23,
   "metadata": {},
   "outputs": [],
   "source": [
    "input_x_train = []\n",
    "output_y_train = []\n",
    "intput_x_test = []\n",
    "output_y_test = []\n",
    "Construct_Feature(train_data_shuffled, input_x_train, output_y_train)\n",
    "Construct_Feature(test_data_shuffled, intput_x_test, output_y_test)"
   ]
  },
  {
   "cell_type": "code",
   "execution_count": 24,
   "metadata": {},
   "outputs": [
    {
     "data": {
      "text/plain": [
       "SVC(C=1000, cache_size=200, class_weight=None, coef0=0.0,\n",
       "  decision_function_shape='ovr', degree=3, gamma='auto', kernel='linear',\n",
       "  max_iter=-1, probability=False, random_state=None, shrinking=True,\n",
       "  tol=0.001, verbose=False)"
      ]
     },
     "execution_count": 24,
     "metadata": {},
     "output_type": "execute_result"
    }
   ],
   "source": [
    "# train data using SVM model\n",
    "clf = svm.SVC(C=1000, kernel='linear')\n",
    "clf.fit(input_x_train, output_y_train)"
   ]
  },
  {
   "cell_type": "code",
   "execution_count": 25,
   "metadata": {},
   "outputs": [],
   "source": [
    "# make prediction\n",
    "train_predictions = clf.predict(input_x_train)\n",
    "test_predictions = clf.predict(intput_x_test)"
   ]
  },
  {
   "cell_type": "code",
   "execution_count": 26,
   "metadata": {},
   "outputs": [],
   "source": [
    "# calculate accuracy\n",
    "result_train = [train_predictions[i] == output_y_train[i] for i in range(len(train_predictions))]\n",
    "result_test = [test_predictions[j] == output_y_test[j] for j in range(len(test_predictions))]\n",
    "acc_train = sum(result_train)/len(train_predictions)\n",
    "acc_test = sum(result_test)/len(test_predictions)"
   ]
  },
  {
   "cell_type": "code",
   "execution_count": 27,
   "metadata": {},
   "outputs": [
    {
     "name": "stdout",
     "output_type": "stream",
     "text": [
      "The acc of train data is 0.987160\n",
      "The acc of test data is 0.988120\n"
     ]
    }
   ],
   "source": [
    "# print acc\n",
    "print (\"The acc of train data is %f\"%(acc_train))\n",
    "print(\"The acc of test data is %f\"%(acc_test))"
   ]
  },
  {
   "cell_type": "code",
   "execution_count": 41,
   "metadata": {},
   "outputs": [],
   "source": [
    "# Ways to improve the SVM model\n",
    "def Construct_New_Feature(data, x_input, y_output):\n",
    "    unit_x = []\n",
    "    for elem in data:\n",
    "        unit_x.append(elem['review/taste'])\n",
    "        unit_x.append(elem['review/appearance'])\n",
    "        unit_x.append(elem['review/aroma'])\n",
    "        unit_x.append(elem['review/palate'])\n",
    "        unit_x.append(elem['review/overall'])\n",
    "        if ('Weizen' in elem['beer/name']):\n",
    "            unit_x.append(1)\n",
    "        else:\n",
    "            unit_x.append(0)\n",
    "       # if ((\"banana\" in elem['review/text'].split(\" \") and \"wheat\" in elem['review/text'].split(\" \")) or \"banana\" in elem['review/text'].split(\" \") or \"wheat\" in elem['review/text'].split(\" \")):\n",
    "       #   unit_x.append(1)\n",
    "        #else:\n",
    "        #   unit_x.append(0)\n",
    "        x_input.append(unit_x)\n",
    "        if elem['beer/style'] == 'Hefeweizen':\n",
    "            y_output.append(1)\n",
    "        else:\n",
    "            y_output.append(0)\n",
    "        unit_x = []"
   ]
  },
  {
   "cell_type": "code",
   "execution_count": 42,
   "metadata": {},
   "outputs": [],
   "source": [
    "input_x_train_new = []\n",
    "output_y_train_new = []\n",
    "intput_x_test_new = []\n",
    "output_y_test_new = []\n",
    "Construct_New_Feature(train_data_shuffled, input_x_train_new, output_y_train_new)\n",
    "Construct_New_Feature(test_data_shuffled, intput_x_test_new, output_y_test_new)"
   ]
  },
  {
   "cell_type": "code",
   "execution_count": 43,
   "metadata": {},
   "outputs": [
    {
     "data": {
      "text/plain": [
       "SVC(C=1000, cache_size=200, class_weight=None, coef0=0.0,\n",
       "  decision_function_shape='ovr', degree=3, gamma='auto', kernel='linear',\n",
       "  max_iter=-1, probability=False, random_state=None, shrinking=True,\n",
       "  tol=0.001, verbose=False)"
      ]
     },
     "execution_count": 43,
     "metadata": {},
     "output_type": "execute_result"
    }
   ],
   "source": [
    "clf_new = svm.SVC(C=1000, kernel='linear')\n",
    "#clf_new = svm.SVC(C=1000, kernel='rbf', gamma=1.0, decision_function_shape='ovr')\n",
    "clf_new.fit(input_x_train_new, output_y_train_new)"
   ]
  },
  {
   "cell_type": "code",
   "execution_count": 44,
   "metadata": {},
   "outputs": [],
   "source": [
    "new_train_predictions = clf_new.predict(input_x_train_new)\n",
    "new_test_predictions = clf_new.predict(intput_x_test_new)"
   ]
  },
  {
   "cell_type": "code",
   "execution_count": 45,
   "metadata": {},
   "outputs": [],
   "source": [
    "result_train_new = [new_train_predictions[i] == output_y_train_new[i] for i in range(len(new_train_predictions))]\n",
    "result_test_new = [new_test_predictions[j] == output_y_test_new[j] for j in range(len(new_test_predictions))]\n",
    "acc_train_new = sum(result_train_new)/len(new_train_predictions)\n",
    "acc_test_new = sum(result_test_new)/len(new_test_predictions)"
   ]
  },
  {
   "cell_type": "code",
   "execution_count": 47,
   "metadata": {},
   "outputs": [
    {
     "name": "stdout",
     "output_type": "stream",
     "text": [
      "The acc of train data is 0.987160\n",
      "The acc of test data is 0.988120\n"
     ]
    }
   ],
   "source": [
    "# print acc\n",
    "print (\"The acc of train data is %f\"%(acc_train_new))\n",
    "print(\"The acc of test data is %f\"%(acc_test_new))"
   ]
  }
 ],
 "metadata": {
  "kernelspec": {
   "display_name": "Python 3",
   "language": "python",
   "name": "python3"
  },
  "language_info": {
   "codemirror_mode": {
    "name": "ipython",
    "version": 3
   },
   "file_extension": ".py",
   "mimetype": "text/x-python",
   "name": "python",
   "nbconvert_exporter": "python",
   "pygments_lexer": "ipython3",
   "version": "3.6.5"
  }
 },
 "nbformat": 4,
 "nbformat_minor": 2
}
