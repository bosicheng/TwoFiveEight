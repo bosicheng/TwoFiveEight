{
 "cells": [
  {
   "cell_type": "code",
   "execution_count": 12,
   "metadata": {},
   "outputs": [],
   "source": [
    "import numpy as np\n",
    "import urllib.request\n",
    "import scipy.optimize\n",
    "import random\n",
    "import matplotlib.pyplot as plt"
   ]
  },
  {
   "cell_type": "code",
   "execution_count": 13,
   "metadata": {},
   "outputs": [],
   "source": [
    "lam = 1.0"
   ]
  },
  {
   "cell_type": "code",
   "execution_count": 14,
   "metadata": {},
   "outputs": [],
   "source": [
    "def parseData(fname):\n",
    "    for l in urllib.request.urlopen(fname):\n",
    "        yield eval(l)"
   ]
  },
  {
   "cell_type": "code",
   "execution_count": 15,
   "metadata": {},
   "outputs": [
    {
     "name": "stdout",
     "output_type": "stream",
     "text": [
      "Loading dataset......\n",
      "done\n"
     ]
    }
   ],
   "source": [
    "# load dataset\n",
    "print (\"Loading dataset......\")\n",
    "data = list(parseData(\"http://jmcauley.ucsd.edu/cse255/data/beer/beer_50000.json\"))\n",
    "print (\"done\")"
   ]
  },
  {
   "cell_type": "code",
   "execution_count": 16,
   "metadata": {},
   "outputs": [],
   "source": [
    "# Shuffle the data and split it into three \n",
    "random.shuffle(data)\n",
    "train_set = data[:int(len(data)/3)]\n",
    "test_set = data[int(len(data)/3):int(len(data)/3)*2]\n",
    "validate_set = data[int(len(data)/3)*2:]"
   ]
  },
  {
   "cell_type": "code",
   "execution_count": 17,
   "metadata": {},
   "outputs": [],
   "source": [
    "# Construct train Input for Q1.1\n",
    "X_train = [[1, x['review/taste'], x['review/appearance'], x['review/aroma'], x['review/palate'], x['review/overall']] for x in train_set] \n",
    "Y_train = [True if x['beer/ABV'] >= 6.5 else False for x in train_set]"
   ]
  },
  {
   "cell_type": "code",
   "execution_count": 18,
   "metadata": {},
   "outputs": [],
   "source": [
    "# Construct validation Input for Q1.1\n",
    "X_valid = [[1, x['review/taste'], x['review/appearance'], x['review/aroma'], x['review/palate'], x['review/overall']] for x in validate_set] \n",
    "Y_valid = [True if x['beer/ABV'] >= 6.5 else False for x in validate_set]"
   ]
  },
  {
   "cell_type": "code",
   "execution_count": 19,
   "metadata": {},
   "outputs": [],
   "source": [
    "# Construct test Input for Q1.1\n",
    "X_test = [[1, x['review/taste'], x['review/appearance'], x['review/aroma'], x['review/palate'], x['review/overall']] for x in test_set] \n",
    "Y_test = [True if x['beer/ABV'] >= 6.5 else False for x in test_set]"
   ]
  },
  {
   "cell_type": "code",
   "execution_count": 20,
   "metadata": {},
   "outputs": [],
   "source": [
    "# Construct Sigmoid Function\n",
    "def My_sigmoid(x):\n",
    "    return 1/(1+np.exp(-x))"
   ]
  },
  {
   "cell_type": "code",
   "execution_count": 21,
   "metadata": {},
   "outputs": [],
   "source": [
    "# Inner Multiply\n",
    "def inner(x, y):\n",
    "    return sum(x[i] * y[i] for i in range(len(x)))"
   ]
  },
  {
   "cell_type": "code",
   "execution_count": 22,
   "metadata": {},
   "outputs": [],
   "source": [
    "# Construct Objective\n",
    "def f (theta, x, y, lam):\n",
    "    negative_likelihood = 0\n",
    "    for i in range(len(x)):\n",
    "        logits = inner(x[i],theta)\n",
    "        negative_likelihood = negative_likelihood - np.log(1+np.exp(-logits))\n",
    "        if not y[i]:\n",
    "            negative_likelihood = negative_likelihood - logits\n",
    "    for k  in range(len(theta)):\n",
    "        negative_likelihood = negative_likelihood - lam * theta[k]*theta[k]\n",
    "    return -negative_likelihood"
   ]
  },
  {
   "cell_type": "code",
   "execution_count": 23,
   "metadata": {},
   "outputs": [],
   "source": [
    "# Calculate the Derivative\n",
    "def fprime(theta, x, y, lam):\n",
    "    dl = [0] * len(theta)\n",
    "    # all together there are len(theta) cofficients\n",
    "    for i in range(len(x)):\n",
    "        logits = inner(x[i],theta)\n",
    "        for k in range(len(theta)):\n",
    "            dl[k] += x[i][k] * (1-My_sigmoid(logits))\n",
    "            if not y[i]:\n",
    "                dl[k] -= x[i][k]\n",
    "    for k in range(len(theta)):\n",
    "        dl[k] -= lam*2*theta[k]\n",
    "    return np.array([-x for x in dl])"
   ]
  },
  {
   "cell_type": "code",
   "execution_count": 24,
   "metadata": {},
   "outputs": [],
   "source": [
    "# Traning process\n",
    "def train(lam,x,y):\n",
    "    theta,_,_ = scipy.optimize.fmin_l_bfgs_b(f, [0]*len(x[0]), fprime, pgtol = 10, args = (x, y, lam))\n",
    "    return theta"
   ]
  },
  {
   "cell_type": "code",
   "execution_count": 25,
   "metadata": {},
   "outputs": [],
   "source": [
    "# Predict Process\n",
    "def predict(input_x, output_y, theta):\n",
    "    score = [inner(theta,x ) for x in input_x]\n",
    "    predictions = [s>0 for s in score]\n",
    "    correct = [(a==b) for a,b in zip(predictions, output_y)]\n",
    "    acc = sum(correct) * 1.0/len(correct)\n",
    "    return acc"
   ]
  },
  {
   "cell_type": "code",
   "execution_count": 26,
   "metadata": {},
   "outputs": [
    {
     "name": "stdout",
     "output_type": "stream",
     "text": [
      "acc on test set= 0.718948757950318\n"
     ]
    }
   ],
   "source": [
    "# Start Train on tran_set\n",
    "theta = train(lam, X_train, Y_train)\n",
    "acc = predict(X_test, Y_test, theta)\n",
    "print (\"acc on test set= \"+str(acc))"
   ]
  },
  {
   "cell_type": "code",
   "execution_count": 27,
   "metadata": {},
   "outputs": [
    {
     "name": "stdout",
     "output_type": "stream",
     "text": [
      "acc on valid set= 0.7150827933765299\n"
     ]
    }
   ],
   "source": [
    "# Calculate Acc on valid_set\n",
    "acc = predict(X_valid, Y_valid, theta)\n",
    "print (\"acc on valid set= \"+str(acc))"
   ]
  },
  {
   "cell_type": "code",
   "execution_count": 28,
   "metadata": {},
   "outputs": [],
   "source": [
    "# True False Positive Negative\n",
    "theta = train(lam, X_test,Y_test)\n",
    "score =[inner(theta,x) for x in X_test]\n",
    "predictions = [s > 0 for s in score]\n",
    "correct = [(a==b) for a,b in zip(predictions, Y_test)]"
   ]
  },
  {
   "cell_type": "code",
   "execution_count": 29,
   "metadata": {},
   "outputs": [
    {
     "name": "stdout",
     "output_type": "stream",
     "text": [
      "P= 11976\n",
      "N= 4690\n",
      "TP= 9015\n",
      "TN= 2961\n",
      "FP= 3362\n",
      "FN= 1328\n"
     ]
    }
   ],
   "source": [
    "P = sum(correct)\n",
    "N = len(correct) - P\n",
    "TP = 0\n",
    "TN = 0\n",
    "FP = 0\n",
    "FN = 0\n",
    "for i in range(len(correct)):\n",
    "    if correct[i] == True:\n",
    "        if predictions[i] == True:\n",
    "            TP = TP + 1\n",
    "        else:\n",
    "            TN = TN + 1\n",
    "    else:\n",
    "        if predictions[i] == True:\n",
    "            FP = FP + 1\n",
    "        else:\n",
    "            FN = FN + 1\n",
    "print (\"P= \"+str(P))\n",
    "print (\"N= \"+str(N))\n",
    "print (\"TP= \"+str(TP))\n",
    "print (\"TN= \"+str(TN))\n",
    "print (\"FP= \"+str(FP))\n",
    "print (\"FN= \"+str(FN))"
   ]
  },
  {
   "cell_type": "code",
   "execution_count": 6,
   "metadata": {},
   "outputs": [],
   "source": [
    "def new_inner(x, y):\n",
    "    return My_sigmoid(sum(x[i] * y[i] for i in range(len(x))))"
   ]
  },
  {
   "cell_type": "code",
   "execution_count": 1,
   "metadata": {},
   "outputs": [],
   "source": [
    "# Construct New Objective\n",
    "def new_f (theta, x, y, lam):\n",
    "    negative_likelihood = 0\n",
    "    for i in range(len(x)):\n",
    "        logits = new_inner(x[i],theta)\n",
    "        if y[i] == 1:\n",
    "            nagative_likelihood += y[i]*math.log(logits)\n",
    "        elif y[i] == 0:\n",
    "            if logits > 0:\n",
    "                negative_likelihood += (1-y[i])*math.log(1-My_sigmoid(sum(x[i][j]*10*theta[j] for j in range(len(theta)))))\n",
    "            else:\n",
    "                negative_likelihood += (1-y[i])*math.log(1-logits)\n",
    "            negative_likelihood += (1-y[i])\n",
    "    for k  in range(len(theta)):\n",
    "        negative_likelihood = negative_likelihood - lam * theta[k]*theta[k]\n",
    "    return -negative_likelihood"
   ]
  },
  {
   "cell_type": "code",
   "execution_count": null,
   "metadata": {},
   "outputs": [],
   "source": [
    "# Calculate the new Derivative\n",
    "def new_fprime(theta, x, y, lam):\n",
    "    dl = [0] * len(theta)\n",
    "    # all together there are len(theta) cofficients\n",
    "    for i in range(len(x)):\n",
    "        logits = new_inner(x[i],theta)\n",
    "        for k in range(len(theta)):\n",
    "            if y[i] == 1:\n",
    "                dl[k] -= logits * (1-logits) * x[i][k]\n",
    "            elif y[i] == 0:\n",
    "                if logits > 0:\n",
    "                    dl[k] -= 10*(1-y[i])*(-1)*x[i][k]\n",
    "                else:\n",
    "                    dl[k] -= (1-y[i])*(-1)*x[i][k]\n",
    "    for k in range(len(theta)):\n",
    "        dl[k] -= lam*2*theta[k]\n",
    "    return np.array([-x for x in dl])"
   ]
  },
  {
   "cell_type": "code",
   "execution_count": 30,
   "metadata": {},
   "outputs": [],
   "source": [
    "acc = [] #Used to store the acc on train/valid/test for each lam\n",
    "def pipeline():\n",
    "    for elem in [0, 0.01, 0.1, 1, 100]:\n",
    "        unit_acc = []\n",
    "        theta = train(elem, X_train, Y_train)\n",
    "        unit_acc.append(predict(X_train, Y_train, theta))\n",
    "        unit_acc.append(predict(X_valid, Y_valid, theta))\n",
    "        unit_acc.append(predict(X_test, Y_test, theta))\n",
    "        acc.append(unit_acc)"
   ]
  },
  {
   "cell_type": "code",
   "execution_count": 31,
   "metadata": {},
   "outputs": [],
   "source": [
    "pipeline()"
   ]
  },
  {
   "cell_type": "code",
   "execution_count": 32,
   "metadata": {},
   "outputs": [
    {
     "name": "stdout",
     "output_type": "stream",
     "text": [
      "[[0.7234489379575183, 0.7150227981761459, 0.7193087723508941], [0.7242289691587663, 0.714962802975762, 0.7203888155526221], [0.7235089403576143, 0.714902807775378, 0.71936877475099], [0.7236289451578063, 0.7150827933765299, 0.718948757950318], [0.6746069842793712, 0.6666666666666666, 0.6683667346693868]]\n"
     ]
    }
   ],
   "source": [
    "print (acc)"
   ]
  },
  {
   "cell_type": "code",
   "execution_count": 40,
   "metadata": {},
   "outputs": [
    {
     "name": "stdout",
     "output_type": "stream",
     "text": [
      "[[0.7234489379575183, 0.7242289691587663, 0.7235089403576143, 0.7236289451578063, 0.6746069842793712], [0.7150227981761459, 0.714962802975762, 0.714902807775378, 0.7150827933765299, 0.6666666666666666], [0.7193087723508941, 0.7203888155526221, 0.71936877475099, 0.718948757950318, 0.6683667346693868]]\n"
     ]
    },
    {
     "data": {
      "image/png": "[encoded data removed]",
      "text/plain": [
       "<Figure size 432x288 with 1 Axes>"
      ]
     },
     "metadata": {},
     "output_type": "display_data"
    },
    {
     "data": {
      "image/png": "[encoded data removed]",
      "text/plain": [
       "<Figure size 432x288 with 1 Axes>"
      ]
     },
     "metadata": {},
     "output_type": "display_data"
    },
    {
     "data": {
      "image/png": "[encoded data removed]",
      "text/plain": [
       "<Figure size 432x288 with 1 Axes>"
      ]
     },
     "metadata": {},
     "output_type": "display_data"
    }
   ],
   "source": [
    "new_acc = []\n",
    "for i in range(3):\n",
    "    unit_acc = []\n",
    "    for elem in acc:\n",
    "        unit_acc.append(elem[i])\n",
    "    new_acc.append(unit_acc)\n",
    "print (new_acc)\n",
    "lam_list = ['0', '0.01','0.1', '1', '100']\n",
    "color_list = ['red','blue','yellow','green','black']\n",
    "dataset = ['train','valid','test']\n",
    "plt.title('Result Analysis')\n",
    "for i in range(3):\n",
    "    plt.bar(lam_list,new_acc[i],color=color_list[i])\n",
    "    plt.xlabel('lamda')\n",
    "    plt.ylabel('Accuracy'+\"on \"+dataset[i])\n",
    "    plt.ylim(0.66,0.725)\n",
    "    plt.show()"
   ]
  },
  {
   "cell_type": "code",
   "execution_count": null,
   "metadata": {},
   "outputs": [],
   "source": []
  }
 ],
 "metadata": {
  "kernelspec": {
   "display_name": "Python 3",
   "language": "python",
   "name": "python3"
  },
  "language_info": {
   "codemirror_mode": {
    "name": "ipython",
    "version": 3
   },
   "file_extension": ".py",
   "mimetype": "text/x-python",
   "name": "python",
   "nbconvert_exporter": "python",
   "pygments_lexer": "ipython3",
   "version": "3.6.5"
  }
 },
 "nbformat": 4,
 "nbformat_minor": 2
}
