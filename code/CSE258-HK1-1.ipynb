{
 "cells": [
  {
   "cell_type": "code",
   "execution_count": 102,
   "metadata": {},
   "outputs": [],
   "source": [
    "# all library we need for this task\n",
    "import numpy as np\n",
    "import urllib.request\n",
    "import scipy.optimize\n",
    "import random\n",
    "import matplotlib.pyplot as plt"
   ]
  },
  {
   "cell_type": "code",
   "execution_count": 103,
   "metadata": {},
   "outputs": [],
   "source": [
    "#load data from website\n",
    "def parseData(fname):\n",
    "    for l in urllib.request.urlopen(fname):\n",
    "        yield eval(l)"
   ]
  },
  {
   "cell_type": "code",
   "execution_count": 104,
   "metadata": {},
   "outputs": [
    {
     "name": "stdout",
     "output_type": "stream",
     "text": [
      "Reading data.....\n",
      "We are done\n"
     ]
    }
   ],
   "source": [
    "#store data to local variable\n",
    "print (\"Reading data.....\")\n",
    "data = list(parseData(\"http://jmcauley.ucsd.edu/cse255/data/beer/beer_50000.json\"))\n",
    "print (\"We are done\")"
   ]
  },
  {
   "cell_type": "code",
   "execution_count": 105,
   "metadata": {},
   "outputs": [],
   "source": [
    "#init one dict for storing review/taste\n",
    "TasteValue = {}\n",
    "taste = [d['review/taste'] for d in data]"
   ]
  },
  {
   "cell_type": "code",
   "execution_count": 106,
   "metadata": {},
   "outputs": [],
   "source": [
    "for elem in taste:\n",
    "    if elem not in TasteValue.keys():\n",
    "        TasteValue[elem] = 1\n",
    "    else:\n",
    "        TasteValue[elem] = TasteValue[elem] + 1"
   ]
  },
  {
   "cell_type": "code",
   "execution_count": 107,
   "metadata": {},
   "outputs": [
    {
     "name": "stdout",
     "output_type": "stream",
     "text": [
      "{1.5: 343, 3.0: 4137, 4.5: 12883, 3.5: 8797, 4.0: 16575, 2.0: 1099, 5.0: 4331, 2.5: 1624, 1.0: 211}\n"
     ]
    }
   ],
   "source": [
    "# here we get the distribution of review/taste\n",
    "print (TasteValue)"
   ]
  },
  {
   "cell_type": "code",
   "execution_count": 108,
   "metadata": {},
   "outputs": [],
   "source": [
    "SortedTasteValue = {key:TasteValue[key] for key in sorted(TasteValue.keys())}"
   ]
  },
  {
   "cell_type": "code",
   "execution_count": 109,
   "metadata": {},
   "outputs": [
    {
     "name": "stdout",
     "output_type": "stream",
     "text": [
      "{1.0: 211, 1.5: 343, 2.0: 1099, 2.5: 1624, 3.0: 4137, 3.5: 8797, 4.0: 16575, 4.5: 12883, 5.0: 4331}\n"
     ]
    }
   ],
   "source": [
    "print (SortedTasteValue)"
   ]
  },
  {
   "cell_type": "code",
   "execution_count": 110,
   "metadata": {},
   "outputs": [
    {
     "data": {
      "image/png": "[encoded data removed]",
      "text/plain": [
       "<Figure size 432x288 with 1 Axes>"
      ]
     },
     "metadata": {},
     "output_type": "display_data"
    }
   ],
   "source": [
    "x = [elem for elem in SortedTasteValue.keys()]\n",
    "y = [elem for elem in SortedTasteValue.values()]\n",
    "plt.bar(x,y,color='blue')\n",
    "plt.title('Distribution of Review/Taste in Dataset')\n",
    "plt.xlabel('Taste')\n",
    "plt.ylabel('Quantity')\n",
    "plt.show()"
   ]
  },
  {
   "cell_type": "code",
   "execution_count": 111,
   "metadata": {},
   "outputs": [],
   "source": [
    "# we need to construct the input matrix and output matrix\n",
    "# unit[1] = 1 denotes the beer is Hefeweizen\n",
    "def construct(data, input_x, output_y):\n",
    "    unit_x = [1]\n",
    "    # init theta 0\n",
    "    for elem in data:\n",
    "        if elem['beer/style'] == 'Hefeweizen':\n",
    "            unit_x.append(1)\n",
    "        else:\n",
    "            unit_x.append(0)\n",
    "        unit_x.append(elem['beer/ABV'])\n",
    "        input_x.append(unit_x)\n",
    "        output_y.append(elem['review/taste'])\n",
    "        unit_x = [1]"
   ]
  },
  {
   "cell_type": "code",
   "execution_count": 112,
   "metadata": {},
   "outputs": [],
   "source": [
    "input_x = []\n",
    "output_y = []\n",
    "construct(data, input_x, output_y)"
   ]
  },
  {
   "cell_type": "code",
   "execution_count": 113,
   "metadata": {},
   "outputs": [],
   "source": [
    "theta,residuals,rank,s = np.linalg.lstsq(input_x, output_y, rcond=None)"
   ]
  },
  {
   "cell_type": "code",
   "execution_count": 114,
   "metadata": {},
   "outputs": [
    {
     "name": "stdout",
     "output_type": "stream",
     "text": [
      "[ 3.11795084 -0.05637406  0.10877902]\n"
     ]
    }
   ],
   "source": [
    "print (theta)"
   ]
  },
  {
   "cell_type": "code",
   "execution_count": 115,
   "metadata": {},
   "outputs": [],
   "source": [
    "#split the data into two equal farctions\n",
    "train_data = data[:int(len(data)/2)]\n",
    "test_data = data[-int(len(data)/2):]"
   ]
  },
  {
   "cell_type": "code",
   "execution_count": 116,
   "metadata": {},
   "outputs": [],
   "source": [
    "# train the model on train_data only\n",
    "input_train = []\n",
    "output_train = []\n",
    "construct(train_data, input_train, output_train)\n",
    "theta_train, residuals, rank, s = np.linalg.lstsq(input_train, output_train, rcond=None)"
   ]
  },
  {
   "cell_type": "code",
   "execution_count": 117,
   "metadata": {},
   "outputs": [
    {
     "name": "stdout",
     "output_type": "stream",
     "text": [
      "[ 2.99691466 -0.03573098  0.11672256]\n"
     ]
    }
   ],
   "source": [
    "print (theta_train)"
   ]
  },
  {
   "cell_type": "code",
   "execution_count": 118,
   "metadata": {},
   "outputs": [],
   "source": [
    "# construct data for test dataset\n",
    "input_test = []\n",
    "output_test = []\n",
    "construct(test_data, input_test, output_test)"
   ]
  },
  {
   "cell_type": "code",
   "execution_count": 119,
   "metadata": {},
   "outputs": [],
   "source": [
    "# we have already got the model, now we need to calculate the MSE on training set\n",
    "MSE_train = ((np.dot(np.array(input_train), np.array(theta_train).T) - np.array(output_train))**2).mean()\n",
    "MSE_test =  ((np.dot(np.array(input_test), np.array(theta_train).T) - np.array(output_test))**2).mean()"
   ]
  },
  {
   "cell_type": "code",
   "execution_count": 87,
   "metadata": {},
   "outputs": [
    {
     "name": "stdout",
     "output_type": "stream",
     "text": [
      "[ 2.04479649  0.72059454  0.75561131 ... -0.23271644 -0.73271644\n",
      " -0.73271644]\n"
     ]
    }
   ],
   "source": [
    "# print (MSE_train-np.array(output_train))"
   ]
  },
  {
   "cell_type": "code",
   "execution_count": 120,
   "metadata": {},
   "outputs": [
    {
     "name": "stdout",
     "output_type": "stream",
     "text": [
      "MSE on train data: 0.483968\n",
      "MSE on test data: 0.423707\n"
     ]
    }
   ],
   "source": [
    "# Here we output the MSE value for train data and test data\n",
    "print (\"MSE on train data: %f\"%(MSE_train))\n",
    "print (\"MSE on test data: %f\"%(MSE_test))"
   ]
  },
  {
   "cell_type": "code",
   "execution_count": 121,
   "metadata": {},
   "outputs": [],
   "source": [
    "# We need to shuffle the data\n",
    "random.shuffle(data)"
   ]
  },
  {
   "cell_type": "code",
   "execution_count": 122,
   "metadata": {},
   "outputs": [],
   "source": [
    "# Then train model just as we did before\n",
    "train_data_shuffled = data[:int(len(data)/2)]\n",
    "test_data_shuffled = data[-int(len(data)/2):]"
   ]
  },
  {
   "cell_type": "code",
   "execution_count": 123,
   "metadata": {},
   "outputs": [],
   "source": [
    "# input train feature\n",
    "input_train_shuffled = []\n",
    "output_train_shuffled = []\n",
    "construct(train_data_shuffled, input_train_shuffled, output_train_shuffled)\n",
    "# input test feature\n",
    "input_test_shuffled = []\n",
    "output_test_shuffled = []\n",
    "construct(test_data_shuffled, input_test_shuffled, output_test_shuffled)"
   ]
  },
  {
   "cell_type": "code",
   "execution_count": 124,
   "metadata": {},
   "outputs": [],
   "source": [
    "# train model\n",
    "theta_train_shuffled,residuals,rank,s = np.linalg.lstsq(input_train_shuffled, output_train_shuffled, rcond=None)"
   ]
  },
  {
   "cell_type": "code",
   "execution_count": 126,
   "metadata": {},
   "outputs": [
    {
     "name": "stdout",
     "output_type": "stream",
     "text": [
      "[ 3.11336703 -0.0449949   0.10947105]\n"
     ]
    }
   ],
   "source": [
    "print (theta_train_shuffled)"
   ]
  },
  {
   "cell_type": "code",
   "execution_count": 127,
   "metadata": {},
   "outputs": [],
   "source": [
    "# Here we again calculate MSE on train set and test set\n",
    "MSE_train_shuffled = ((np.dot(np.array(input_train_shuffled), np.array(theta_train_shuffled).T) - np.array(output_train_shuffled))**2).mean()\n",
    "MSE_test_shuffled =  ((np.dot(np.array(input_test_shuffled), np.array(theta_train_shuffled).T) - np.array(output_test_shuffled))**2).mean()"
   ]
  },
  {
   "cell_type": "code",
   "execution_count": 128,
   "metadata": {},
   "outputs": [
    {
     "name": "stdout",
     "output_type": "stream",
     "text": [
      "MSE on train shuffled data: 0.448804\n",
      "MSE on test shuffled data: 0.450521\n"
     ]
    }
   ],
   "source": [
    "# Here we output the MSE value for train shuffled data and test shuffled data\n",
    "print (\"MSE on train shuffled data: %f\"%(MSE_train_shuffled))\n",
    "print (\"MSE on test shuffled data: %f\"%(MSE_test_shuffled))"
   ]
  },
  {
   "cell_type": "code",
   "execution_count": 129,
   "metadata": {},
   "outputs": [],
   "source": [
    "def construct_newfeature(data, input_x, output_y):\n",
    "    unit_x = [1]\n",
    "    # init theta 0\n",
    "    for elem in data:\n",
    "        if elem['beer/style'] == 'Hefeweizen':\n",
    "            unit_x.append(elem['beer/ABV'])\n",
    "            unit_x.append(0)\n",
    "        else:\n",
    "            unit_x.append(0)\n",
    "            unit_x.append(elem['beer/ABV'])\n",
    "        input_x.append(unit_x)\n",
    "        output_y.append(elem['review/taste'])\n",
    "        unit_x = [1]"
   ]
  },
  {
   "cell_type": "code",
   "execution_count": 130,
   "metadata": {},
   "outputs": [],
   "source": [
    "# reconstruct features using new method\n",
    "# input train feature\n",
    "new_input_train_shuffled = []\n",
    "new_output_train_shuffled = []\n",
    "construct_newfeature(train_data_shuffled, new_input_train_shuffled, new_output_train_shuffled)\n",
    "# input test feature\n",
    "new_input_test_shuffled = []\n",
    "new_output_test_shuffled = []\n",
    "construct_newfeature(test_data_shuffled, new_input_test_shuffled, new_output_test_shuffled)"
   ]
  },
  {
   "cell_type": "code",
   "execution_count": 131,
   "metadata": {},
   "outputs": [],
   "source": [
    "# train new model\n",
    "new_theta_train_shuffled,residuals,rank,s = np.linalg.lstsq(new_input_train_shuffled, new_output_train_shuffled, rcond=None)"
   ]
  },
  {
   "cell_type": "code",
   "execution_count": 132,
   "metadata": {},
   "outputs": [
    {
     "name": "stdout",
     "output_type": "stream",
     "text": [
      "[3.11370652 0.09945572 0.10943807]\n"
     ]
    }
   ],
   "source": [
    "# print the theta under this case\n",
    "print (new_theta_train_shuffled)"
   ]
  },
  {
   "cell_type": "code",
   "execution_count": 133,
   "metadata": {},
   "outputs": [],
   "source": [
    "# Here we again calculate MSE on train set and test set base on new feature\n",
    "new_MSE_train_shuffled = ((np.dot(np.array(new_input_train_shuffled), np.array(new_theta_train_shuffled).T) - np.array(new_output_train_shuffled))**2).mean()\n",
    "new_MSE_test_shuffled =  ((np.dot(np.array(new_input_test_shuffled), np.array(new_theta_train_shuffled).T) - np.array(new_output_test_shuffled))**2).mean()"
   ]
  },
  {
   "cell_type": "code",
   "execution_count": 134,
   "metadata": {},
   "outputs": [
    {
     "name": "stdout",
     "output_type": "stream",
     "text": [
      "MSE on train shuffled data: 0.448795\n",
      "MSE on test shuffled data: 0.450518\n"
     ]
    }
   ],
   "source": [
    "# Here we output the MSE value for train shuffled data and test shuffled data\n",
    "print (\"MSE on train shuffled data: %f\"%(new_MSE_train_shuffled))\n",
    "print (\"MSE on test shuffled data: %f\"%(new_MSE_test_shuffled))"
   ]
  }
 ],
 "metadata": {
  "kernelspec": {
   "display_name": "Python 3",
   "language": "python",
   "name": "python3"
  },
  "language_info": {
   "codemirror_mode": {
    "name": "ipython",
    "version": 3
   },
   "file_extension": ".py",
   "mimetype": "text/x-python",
   "name": "python",
   "nbconvert_exporter": "python",
   "pygments_lexer": "ipython3",
   "version": "3.6.5"
  }
 },
 "nbformat": 4,
 "nbformat_minor": 2
}
